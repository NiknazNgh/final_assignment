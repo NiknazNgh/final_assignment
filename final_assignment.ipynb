{
  "metadata": {
    "kernelspec": {
      "name": "python",
      "display_name": "Python (Pyodide)",
      "language": "python"
    },
    "language_info": {
      "codemirror_mode": {
        "name": "python",
        "version": 3
      },
      "file_extension": ".py",
      "mimetype": "text/x-python",
      "name": "python",
      "nbconvert_exporter": "python",
      "pygments_lexer": "ipython3",
      "version": "3.8"
    }
  },
  "nbformat_minor": 4,
  "nbformat": 4,
  "cells": [
    {
      "cell_type": "markdown",
      "source": "<center>\n    <img src=\"https://cf-courses-data.s3.us.cloud-object-storage.appdomain.cloud/IBMDeveloperSkillsNetwork-DS0105EN-SkillsNetwork/labs/Module2/images/SN_web_lightmode.png\" width=\"300\" alt=\"cognitiveclass.ai logo\">\n</center>\n",
      "metadata": {}
    },
    {
      "cell_type": "markdown",
      "source": "## My Jupyterlite Notebook\n",
      "metadata": {}
    },
    {
      "cell_type": "markdown",
      "source": "## Introduction\nThis notebook is created as part of the final assignment for the course.",
      "metadata": {
        "jp-MarkdownHeadingCollapsed": true
      }
    },
    {
      "cell_type": "markdown",
      "source": "## Data Science Languages\n- Python\n- R\n- SQL\n- Julia\n- Java\n",
      "metadata": {}
    },
    {
      "cell_type": "markdown",
      "source": "## Data Science Libraries\n- Pandas\n- NumPy\n- Matplotlib\n- Scikit-learn\n- TensorFlow\n- Keras\n",
      "metadata": {}
    },
    {
      "cell_type": "markdown",
      "source": "## Data Science Tools\n| Tool             | Description                    |\n|------------------|--------------------------------|\n| Jupyter Notebooks| Interactive coding environment |\n| RStudio          | Integrated development environment for R |\n| GitHub           | Code hosting platform for version control |\n| Anaconda         | Distribution for Python and R programming |\n| Tableau          | Data visualization tool        |\n",
      "metadata": {}
    },
    {
      "cell_type": "markdown",
      "source": "## Arithmetic Expressions Examples\nBelow are some examples of basic arithmetic expressions in Python.\n",
      "metadata": {}
    },
    {
      "cell_type": "code",
      "source": "# Multiplying and adding numbers\na = 5\nb = 10\nresult = a * b + b\nresult\n",
      "metadata": {
        "trusted": true
      },
      "outputs": [
        {
          "execution_count": 3,
          "output_type": "execute_result",
          "data": {
            "text/plain": "60"
          },
          "metadata": {}
        }
      ],
      "execution_count": 3
    },
    {
      "cell_type": "code",
      "source": "# Converting minutes to hours\nminutes = 150\nhours = minutes / 60\nhours\n",
      "metadata": {
        "trusted": true
      },
      "outputs": [
        {
          "execution_count": 4,
          "output_type": "execute_result",
          "data": {
            "text/plain": "2.5"
          },
          "metadata": {}
        }
      ],
      "execution_count": 4
    },
    {
      "cell_type": "markdown",
      "source": "## Objectives\n- Understand the basics of Jupyter Notebooks\n- Learn to create markdown and code cells\n- Get familiar with common data science libraries\n- Practice arithmetic operations in Python\n- Share the notebook on GitHub\n",
      "metadata": {}
    },
    {
      "cell_type": "markdown",
      "source": "## Author\nNiknaz Negahdarhaghighat\n",
      "metadata": {}
    },
    {
      "cell_type": "code",
      "source": "",
      "metadata": {
        "trusted": true
      },
      "outputs": [],
      "execution_count": null
    }
  ]
}